{
 "cells": [
  {
   "cell_type": "markdown",
   "metadata": {},
   "source": [
    "# Практическое задание 3"
   ]
  },
  {
   "cell_type": "code",
   "execution_count": 10,
   "metadata": {},
   "outputs": [],
   "source": [
    "import tensorflow as tf\n",
    "from tensorflow import keras\n",
    "\n",
    "from sklearn.model_selection import train_test_split"
   ]
  },
  {
   "cell_type": "markdown",
   "metadata": {
    "id": "gAqpMfDiSkZ5"
   },
   "source": [
    "# Датасет с рукописными буквами"
   ]
  },
  {
   "cell_type": "markdown",
   "metadata": {
    "id": "m5rHCIuXVrmj"
   },
   "source": [
    "https://www.tensorflow.org/datasets/catalog/binary_alpha_digits"
   ]
  },
  {
   "cell_type": "code",
   "execution_count": 11,
   "metadata": {
    "id": "hzxgDKJvUzo9"
   },
   "outputs": [],
   "source": [
    "import matplotlib.pyplot as plt\n",
    "import numpy as np"
   ]
  },
  {
   "cell_type": "code",
   "execution_count": 12,
   "metadata": {},
   "outputs": [],
   "source": [
    "classes = [str(i) for i in range(10)] +  list('ABCDEFGHIJKLMNOPQRSTUVWXYZ')"
   ]
  },
  {
   "cell_type": "code",
   "execution_count": 13,
   "metadata": {},
   "outputs": [
    {
     "data": {
      "text/plain": [
       "36"
      ]
     },
     "execution_count": 13,
     "metadata": {},
     "output_type": "execute_result"
    }
   ],
   "source": [
    "len(classes)"
   ]
  },
  {
   "cell_type": "code",
   "execution_count": 14,
   "metadata": {
    "id": "OMHXQi0ZSimY"
   },
   "outputs": [
    {
     "name": "stdout",
     "output_type": "stream",
     "text": [
      "['0', '1', '2', '3', '4', '5', '6', '7', '8', '9', 'A', 'B', 'C', 'D', 'E', 'F', 'G', 'H', 'I', 'J', 'K', 'L', 'M', 'N', 'O', 'P', 'Q', 'R', 'S', 'T', 'U', 'V', 'W', 'X', 'Y', 'Z']\n"
     ]
    }
   ],
   "source": [
    "classes = [str(i) for i in range(10)] +  list('ABCDEFGHIJKLMNOPQRSTUVWXYZ')\n",
    "print(classes)\n",
    "\n",
    "X = np.load('binary_alpha_digits_images.npy')\n",
    "y = np.load('binary_alpha_digits_labels.npy')"
   ]
  },
  {
   "cell_type": "code",
   "execution_count": 15,
   "metadata": {},
   "outputs": [
    {
     "data": {
      "text/plain": [
       "26"
      ]
     },
     "execution_count": 15,
     "metadata": {},
     "output_type": "execute_result"
    }
   ],
   "source": [
    "len(list('ABCDEFGHIJKLMNOPQRSTUVWXYZ'))"
   ]
  },
  {
   "cell_type": "code",
   "execution_count": 16,
   "metadata": {
    "id": "-KABm1zlKMi-"
   },
   "outputs": [
    {
     "data": {
      "text/plain": [
       "((1404, 20, 16), (1404,))"
      ]
     },
     "execution_count": 16,
     "metadata": {},
     "output_type": "execute_result"
    }
   ],
   "source": [
    "X.shape, y.shape"
   ]
  },
  {
   "cell_type": "code",
   "execution_count": 17,
   "metadata": {
    "id": "4nmyuGLyC3W9"
   },
   "outputs": [
    {
     "data": {
      "image/png": "[encoded data removed]",
      "text/plain": [
       "<Figure size 720x360 with 15 Axes>"
      ]
     },
     "metadata": {},
     "output_type": "display_data"
    }
   ],
   "source": [
    "fig, axes = plt.subplots(3, 5, figsize=(10, 5))\n",
    "fig.suptitle('binary alpha digits', fontsize=20)\n",
    "n = 0\n",
    "for ax in axes.flat:\n",
    "    ax.set_yticks([])\n",
    "    ax.set_xticks([])\n",
    "    ax.imshow(X[n], cmap=plt.cm.binary)\n",
    "    ax.set_xlabel(classes[y[n]])\n",
    "    n += 1"
   ]
  },
  {
   "cell_type": "code",
   "execution_count": 18,
   "metadata": {},
   "outputs": [],
   "source": [
    "X_train, X_test, y_train, y_test = train_test_split(X, y, test_size=0.33, random_state=28)"
   ]
  },
  {
   "cell_type": "code",
   "execution_count": null,
   "metadata": {},
   "outputs": [],
   "source": []
  },
  {
   "cell_type": "markdown",
   "metadata": {},
   "source": [
    "### Baseline"
   ]
  },
  {
   "cell_type": "code",
   "execution_count": 19,
   "metadata": {
    "id": "XsksRwKtN2U3"
   },
   "outputs": [],
   "source": [
    "model = keras.Sequential([\n",
    "    keras.layers.Flatten(input_shape=(20, 16)),\n",
    "    keras.layers.Dense(128, activation='relu'),\n",
    "    keras.layers.Dense(36)\n",
    "])\n",
    "\n",
    "model.compile(optimizer=tf.keras.optimizers.Adam(learning_rate=0.001),\n",
    "              loss=tf.keras.losses.SparseCategoricalCrossentropy(from_logits=True),\n",
    "              metrics=['accuracy'])\n"
   ]
  },
  {
   "cell_type": "code",
   "execution_count": 20,
   "metadata": {
    "colab": {
     "base_uri": "https://localhost:8080/"
    },
    "id": "oXFmnsS3OWMZ",
    "outputId": "6239e278-a5a1-4015-e331-a64784c056e2"
   },
   "outputs": [
    {
     "name": "stdout",
     "output_type": "stream",
     "text": [
      "Epoch 1/3\n",
      "30/30 [==============================] - 0s 860us/step - loss: 3.3063 - accuracy: 0.1394\n",
      "Epoch 2/3\n",
      "30/30 [==============================] - 0s 757us/step - loss: 2.3033 - accuracy: 0.4415\n",
      "Epoch 3/3\n",
      "30/30 [==============================] - 0s 757us/step - loss: 1.5578 - accuracy: 0.6319\n"
     ]
    }
   ],
   "source": [
    "hstr = model.fit(X_train, y_train, epochs=3, verbose=1)"
   ]
  },
  {
   "cell_type": "code",
   "execution_count": 21,
   "metadata": {
    "id": "mP7Xm1Za-Bxw",
    "scrolled": true
   },
   "outputs": [
    {
     "name": "stdout",
     "output_type": "stream",
     "text": [
      "15/15 [==============================] - 0s 784us/step - loss: 1.5524 - accuracy: 0.6013\n"
     ]
    },
    {
     "data": {
      "text/plain": [
       "[1.5524040460586548, 0.6012930870056152]"
      ]
     },
     "execution_count": 21,
     "metadata": {},
     "output_type": "execute_result"
    }
   ],
   "source": [
    "model.evaluate(X_test, y_test)"
   ]
  },
  {
   "cell_type": "markdown",
   "metadata": {},
   "source": [
    "**Поменяем функцию активации и увеличим число эпох**"
   ]
  },
  {
   "cell_type": "code",
   "execution_count": 22,
   "metadata": {},
   "outputs": [],
   "source": [
    "model = keras.Sequential([\n",
    "    keras.layers.Flatten(input_shape=(20, 16)),\n",
    "    keras.layers.Dense(128, activation='softsign'),\n",
    "    keras.layers.Dense(36)\n",
    "])\n",
    "\n",
    "model.compile(optimizer=tf.keras.optimizers.Adam(learning_rate=0.001),\n",
    "              loss=tf.keras.losses.SparseCategoricalCrossentropy(from_logits=True),\n",
    "              metrics=['accuracy'])\n"
   ]
  },
  {
   "cell_type": "code",
   "execution_count": 23,
   "metadata": {},
   "outputs": [
    {
     "name": "stdout",
     "output_type": "stream",
     "text": [
      "Epoch 1/10\n",
      "30/30 [==============================] - 0s 825us/step - loss: 3.3185 - accuracy: 0.1500\n",
      "Epoch 2/10\n",
      "30/30 [==============================] - 0s 791us/step - loss: 2.5204 - accuracy: 0.4702\n",
      "Epoch 3/10\n",
      "30/30 [==============================] - 0s 825us/step - loss: 1.9876 - accuracy: 0.6191\n",
      "Epoch 4/10\n",
      "30/30 [==============================] - 0s 791us/step - loss: 1.6180 - accuracy: 0.6787\n",
      "Epoch 5/10\n",
      "30/30 [==============================] - 0s 825us/step - loss: 1.3498 - accuracy: 0.7500\n",
      "Epoch 6/10\n",
      "30/30 [==============================] - 0s 757us/step - loss: 1.1598 - accuracy: 0.7596\n",
      "Epoch 7/10\n",
      "30/30 [==============================] - 0s 825us/step - loss: 1.0075 - accuracy: 0.7947\n",
      "Epoch 8/10\n",
      "30/30 [==============================] - 0s 757us/step - loss: 0.8817 - accuracy: 0.8298\n",
      "Epoch 9/10\n",
      "30/30 [==============================] - 0s 791us/step - loss: 0.7859 - accuracy: 0.8383\n",
      "Epoch 10/10\n",
      "30/30 [==============================] - 0s 791us/step - loss: 0.7019 - accuracy: 0.8628\n",
      "\n",
      "Результат на тесте:\n",
      "15/15 [==============================] - 0s 793us/step - loss: 1.1864 - accuracy: 0.6875\n"
     ]
    },
    {
     "data": {
      "text/plain": [
       "[1.18643057346344, 0.6875]"
      ]
     },
     "execution_count": 23,
     "metadata": {},
     "output_type": "execute_result"
    }
   ],
   "source": [
    "hstr = model.fit(X_train, y_train, epochs=10, verbose=1)\n",
    "print('\\nРезультат на тесте:')\n",
    "model.evaluate(X_test, y_test)"
   ]
  },
  {
   "cell_type": "markdown",
   "metadata": {},
   "source": [
    "**Добавим регуляризацию, новые слои, изменяющуюся скорость обучения и пр. фишки:**"
   ]
  },
  {
   "cell_type": "code",
   "execution_count": 24,
   "metadata": {},
   "outputs": [],
   "source": [
    "model = keras.Sequential([\n",
    "    keras.layers.Flatten(input_shape=(20, 16)),\n",
    "    keras.layers.Dense(128, activation='softsign', \n",
    "                       kernel_regularizer=tf.keras.regularizers.L2(l2=10),\n",
    "                       bias_regularizer=tf.keras.regularizers.L2(l2=0.5)),\n",
    "    keras.layers.Dropout(0.1),\n",
    "    keras.layers.BatchNormalization(),\n",
    "    keras.layers.Dense(64, activation='softsign'),\n",
    "    keras.layers.BatchNormalization(),\n",
    "    keras.layers.Dense(36)\n",
    "])"
   ]
  },
  {
   "cell_type": "code",
   "execution_count": 25,
   "metadata": {},
   "outputs": [],
   "source": [
    "boundaries = [2000, 4000]\n",
    "values = [0.01, 0.005, 0.001]\n",
    "lr_schedule = keras.optimizers.schedules.PiecewiseConstantDecay(boundaries, values)\n",
    "optimizer = keras.optimizers.SGD(learning_rate=lr_schedule)\n",
    "\n",
    "model.compile(optimizer=tf.keras.optimizers.Adam(learning_rate=lr_schedule),\n",
    "              loss=tf.keras.losses.SparseCategoricalCrossentropy(from_logits=True),\n",
    "              metrics=['accuracy'])"
   ]
  },
  {
   "cell_type": "code",
   "execution_count": 26,
   "metadata": {
    "colab": {
     "base_uri": "https://localhost:8080/"
    },
    "id": "oXFmnsS3OWMZ",
    "outputId": "6239e278-a5a1-4015-e331-a64784c056e2"
   },
   "outputs": [
    {
     "name": "stdout",
     "output_type": "stream",
     "text": [
      "Epoch 1/10\n",
      "30/30 [==============================] - 1s 1ms/step - loss: 276.4023 - accuracy: 0.0989  \n",
      "Epoch 2/10\n",
      "30/30 [==============================] - 0s 1ms/step - loss: 12.7030 - accuracy: 0.3085\n",
      "Epoch 3/10\n",
      "30/30 [==============================] - 0s 1ms/step - loss: 6.6926 - accuracy: 0.2989\n",
      "Epoch 4/10\n",
      "30/30 [==============================] - 0s 1ms/step - loss: 6.4099 - accuracy: 0.3447\n",
      "Epoch 5/10\n",
      "30/30 [==============================] - 0s 1ms/step - loss: 6.4341 - accuracy: 0.3160\n",
      "Epoch 6/10\n",
      "30/30 [==============================] - 0s 1ms/step - loss: 6.3724 - accuracy: 0.3457\n",
      "Epoch 7/10\n",
      "30/30 [==============================] - 0s 1ms/step - loss: 6.4651 - accuracy: 0.2851\n",
      "Epoch 8/10\n",
      "30/30 [==============================] - 0s 1ms/step - loss: 6.7047 - accuracy: 0.3053\n",
      "Epoch 9/10\n",
      "30/30 [==============================] - 0s 1ms/step - loss: 6.2848 - accuracy: 0.2745\n",
      "Epoch 10/10\n",
      "30/30 [==============================] - 0s 1ms/step - loss: 6.3616 - accuracy: 0.3181\n"
     ]
    }
   ],
   "source": [
    "hstr = model.fit(X_train, y_train, epochs=10, verbose=1)"
   ]
  },
  {
   "cell_type": "code",
   "execution_count": 27,
   "metadata": {},
   "outputs": [
    {
     "name": "stdout",
     "output_type": "stream",
     "text": [
      "15/15 [==============================] - 0s 783us/step - loss: 6.7656 - accuracy: 0.1552\n"
     ]
    },
    {
     "data": {
      "text/plain": [
       "[6.765630722045898, 0.1551724076271057]"
      ]
     },
     "execution_count": 27,
     "metadata": {},
     "output_type": "execute_result"
    }
   ],
   "source": [
    "model.evaluate(X_test, y_test)"
   ]
  },
  {
   "cell_type": "markdown",
   "metadata": {},
   "source": [
    "**Результаты так себе, уменьшим регуляризацию и dropout**"
   ]
  },
  {
   "cell_type": "code",
   "execution_count": 28,
   "metadata": {},
   "outputs": [],
   "source": [
    "model = keras.Sequential([\n",
    "    keras.layers.Flatten(input_shape=(20, 16)),\n",
    "    keras.layers.Dense(128, activation='softsign', \n",
    "                       kernel_regularizer=tf.keras.regularizers.L2(l2=0.05),\n",
    "                       bias_regularizer=tf.keras.regularizers.L2(l2=0.05)),\n",
    "    keras.layers.Dropout(0.01),\n",
    "    keras.layers.BatchNormalization(),\n",
    "    keras.layers.Dense(64, activation='softsign'),\n",
    "    keras.layers.BatchNormalization(),\n",
    "    keras.layers.Dense(36)\n",
    "])\n",
    "\n",
    "boundaries = [2000, 4000]\n",
    "values = [0.01, 0.005, 0.001]\n",
    "lr_schedule = keras.optimizers.schedules.PiecewiseConstantDecay(boundaries, values)\n",
    "optimizer = keras.optimizers.SGD(learning_rate=lr_schedule)\n",
    "\n",
    "model.compile(optimizer=tf.keras.optimizers.Adam(learning_rate=lr_schedule),\n",
    "              loss=tf.keras.losses.SparseCategoricalCrossentropy(from_logits=True),\n",
    "              metrics=['accuracy'])"
   ]
  },
  {
   "cell_type": "code",
   "execution_count": 29,
   "metadata": {},
   "outputs": [
    {
     "name": "stdout",
     "output_type": "stream",
     "text": [
      "Epoch 1/10\n",
      "30/30 [==============================] - 1s 1ms/step - loss: 5.7144 - accuracy: 0.3660\n",
      "Epoch 2/10\n",
      "30/30 [==============================] - 0s 1ms/step - loss: 2.6962 - accuracy: 0.5426\n",
      "Epoch 3/10\n",
      "30/30 [==============================] - 0s 1ms/step - loss: 2.5898 - accuracy: 0.5511\n",
      "Epoch 4/10\n",
      "30/30 [==============================] - 0s 1ms/step - loss: 2.5399 - accuracy: 0.5979\n",
      "Epoch 5/10\n",
      "30/30 [==============================] - 0s 1ms/step - loss: 2.6349 - accuracy: 0.5670\n",
      "Epoch 6/10\n",
      "30/30 [==============================] - 0s 1ms/step - loss: 2.5968 - accuracy: 0.6117\n",
      "Epoch 7/10\n",
      "30/30 [==============================] - 0s 1ms/step - loss: 2.4955 - accuracy: 0.6000\n",
      "Epoch 8/10\n",
      "30/30 [==============================] - 0s 1ms/step - loss: 2.5477 - accuracy: 0.6021\n",
      "Epoch 9/10\n",
      "30/30 [==============================] - 0s 1ms/step - loss: 2.4760 - accuracy: 0.6255\n",
      "Epoch 10/10\n",
      "30/30 [==============================] - 0s 1ms/step - loss: 2.4912 - accuracy: 0.6117\n",
      "15/15 [==============================] - 0s 855us/step - loss: 3.4970 - accuracy: 0.4353\n"
     ]
    },
    {
     "data": {
      "text/plain": [
       "[3.4970033168792725, 0.4353448152542114]"
      ]
     },
     "execution_count": 29,
     "metadata": {},
     "output_type": "execute_result"
    }
   ],
   "source": [
    "hstr = model.fit(X_train, y_train, epochs=10, verbose=1)\n",
    "\n",
    "model.evaluate(X_test, y_test)"
   ]
  },
  {
   "cell_type": "markdown",
   "metadata": {},
   "source": [
    "**Уже лучше, но не дотягивает до самой простой NN, уберём регуляризацию и чуть увеличим dropout**"
   ]
  },
  {
   "cell_type": "code",
   "execution_count": 30,
   "metadata": {},
   "outputs": [],
   "source": [
    "model = keras.Sequential([\n",
    "    keras.layers.Flatten(input_shape=(20, 16)),\n",
    "    keras.layers.Dense(500, activation='softsign'),\n",
    "    keras.layers.Dropout(0.05),\n",
    "    keras.layers.BatchNormalization(),\n",
    "    keras.layers.Dense(64, activation='softsign'),\n",
    "    keras.layers.BatchNormalization(),\n",
    "    keras.layers.Dense(36)\n",
    "])\n",
    "\n",
    "boundaries = [2000, 4000]\n",
    "values = [0.01, 0.005, 0.001]\n",
    "lr_schedule = keras.optimizers.schedules.PiecewiseConstantDecay(boundaries, values)\n",
    "optimizer = keras.optimizers.SGD(learning_rate=lr_schedule)\n",
    "\n",
    "model.compile(optimizer=tf.keras.optimizers.Adam(learning_rate=lr_schedule),\n",
    "              loss=tf.keras.losses.SparseCategoricalCrossentropy(from_logits=True),\n",
    "              metrics=['accuracy'])"
   ]
  },
  {
   "cell_type": "code",
   "execution_count": 31,
   "metadata": {},
   "outputs": [
    {
     "name": "stdout",
     "output_type": "stream",
     "text": [
      "Epoch 1/10\n",
      "30/30 [==============================] - 1s 2ms/step - loss: 2.2876 - accuracy: 0.3638\n",
      "Epoch 2/10\n",
      "30/30 [==============================] - 0s 2ms/step - loss: 1.0408 - accuracy: 0.6798\n",
      "Epoch 3/10\n",
      "30/30 [==============================] - 0s 2ms/step - loss: 0.7486 - accuracy: 0.7489\n",
      "Epoch 4/10\n",
      "30/30 [==============================] - 0s 2ms/step - loss: 0.5555 - accuracy: 0.8053\n",
      "Epoch 5/10\n",
      "30/30 [==============================] - 0s 2ms/step - loss: 0.5190 - accuracy: 0.8309\n",
      "Epoch 6/10\n",
      "30/30 [==============================] - 0s 2ms/step - loss: 0.5015 - accuracy: 0.8255\n",
      "Epoch 7/10\n",
      "30/30 [==============================] - 0s 2ms/step - loss: 0.4211 - accuracy: 0.8500\n",
      "Epoch 8/10\n",
      "30/30 [==============================] - 0s 2ms/step - loss: 0.4574 - accuracy: 0.8266\n",
      "Epoch 9/10\n",
      "30/30 [==============================] - 0s 2ms/step - loss: 0.4462 - accuracy: 0.8394\n",
      "Epoch 10/10\n",
      "30/30 [==============================] - 0s 2ms/step - loss: 0.3948 - accuracy: 0.8638\n",
      "15/15 [==============================] - 0s 998us/step - loss: 1.6009 - accuracy: 0.6164\n"
     ]
    },
    {
     "data": {
      "text/plain": [
       "[1.600893497467041, 0.6163793206214905]"
      ]
     },
     "execution_count": 31,
     "metadata": {},
     "output_type": "execute_result"
    }
   ],
   "source": [
    "hstr = model.fit(X_train, y_train, epochs=10, verbose=1)\n",
    "\n",
    "model.evaluate(X_test, y_test)"
   ]
  },
  {
   "cell_type": "code",
   "execution_count": 32,
   "metadata": {},
   "outputs": [
    {
     "name": "stdout",
     "output_type": "stream",
     "text": [
      "You must install pydot (`pip install pydot`) and install graphviz (see instructions at https://graphviz.gitlab.io/download/) for plot_model/model_to_dot to work.\n"
     ]
    }
   ],
   "source": [
    "from keras.utils.vis_utils import plot_model\n",
    "\n",
    "plot_model(model, show_shapes=True, show_layer_names=True)"
   ]
  },
  {
   "cell_type": "markdown",
   "metadata": {},
   "source": [
    "Остановимся на простой NN с лучшем результатом ~0,7 на тесте. Видимо, в данном случае проще - значит лучше"
   ]
  },
  {
   "cell_type": "code",
   "execution_count": 49,
   "metadata": {},
   "outputs": [],
   "source": [
    "model = keras.Sequential([\n",
    "    keras.layers.Flatten(input_shape=(20, 16)),\n",
    "    keras.layers.Dense(128, activation='softsign'),\n",
    "    keras.layers.Dense(36)\n",
    "])\n",
    "\n",
    "model.compile(optimizer=tf.keras.optimizers.Adam(learning_rate=0.001),\n",
    "              loss=tf.keras.losses.SparseCategoricalCrossentropy(from_logits=True),\n",
    "              metrics=['accuracy'])\n"
   ]
  },
  {
   "cell_type": "code",
   "execution_count": 50,
   "metadata": {},
   "outputs": [
    {
     "name": "stdout",
     "output_type": "stream",
     "text": [
      "\n",
      "Результат на тесте:\n",
      "15/15 [==============================] - 0s 926us/step - loss: 1.1678 - accuracy: 0.7026\n"
     ]
    },
    {
     "data": {
      "text/plain": [
       "[1.1678446531295776, 0.7025862336158752]"
      ]
     },
     "execution_count": 50,
     "metadata": {},
     "output_type": "execute_result"
    }
   ],
   "source": [
    "hstr = model.fit(X_train, y_train, epochs=10, verbose=0)\n",
    "print('\\nРезультат на тесте:')\n",
    "model.evaluate(X_test, y_test)"
   ]
  }
 ],
 "metadata": {
  "accelerator": "GPU",
  "colab": {
   "collapsed_sections": [],
   "name": "Lesson 3.ipynb",
   "provenance": []
  },
  "kernelspec": {
   "display_name": "Python 3",
   "language": "python",
   "name": "python3"
  },
  "language_info": {
   "codemirror_mode": {
    "name": "ipython",
    "version": 3
   },
   "file_extension": ".py",
   "mimetype": "text/x-python",
   "name": "python",
   "nbconvert_exporter": "python",
   "pygments_lexer": "ipython3",
   "version": "3.8.8"
  }
 },
 "nbformat": 4,
 "nbformat_minor": 1
}
